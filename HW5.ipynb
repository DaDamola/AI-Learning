{
  "nbformat": 4,
  "nbformat_minor": 0,
  "metadata": {
    "colab": {
      "name": "HW5.ipynb",
      "provenance": [],
      "authorship_tag": "ABX9TyPQDbgR8ap5KK+1IPvX6UaK",
      "include_colab_link": true
    },
    "kernelspec": {
      "name": "python3",
      "display_name": "Python 3"
    }
  },
  "cells": [
    {
      "cell_type": "markdown",
      "metadata": {
        "id": "view-in-github",
        "colab_type": "text"
      },
      "source": [
        "<a href=\"https://colab.research.google.com/github/DaDamola/AI-Learning/blob/master/HW5.ipynb\" target=\"_parent\"><img src=\"https://colab.research.google.com/assets/colab-badge.svg\" alt=\"Open In Colab\"/></a>"
      ]
    },
    {
      "cell_type": "markdown",
      "metadata": {
        "id": "F2exvnZRBKPZ",
        "colab_type": "text"
      },
      "source": [
        "**General Concepts**\n",
        "\n",
        "Artificial intelligence is the ability for machines to perform tasks that require a human level of intelligence. Tasks such as recognizing people in a photo or understanding human speech. Artificial intelligence can be reflected in computers, programs, machines or robots. Computers are great at absorbing data, artificial intelligence seeks to use that data to make smart decisions. \n",
        "\n",
        "Computers (machines) learn to perform tasks effectively through learning methods. Through machine learning the goal is to have computers behave logically without receiving explicit programming to do so. Machine learning does this by training a model on a dataset in order to achieve correct predictions. The program learns from the experience of undergoing several iterations of training in order to improve its prediction accuracy. In time it is expected that the model will perform well on making predictions not only on training data, but on unseen data as well. \n",
        "\n",
        "Deep learning is another learning method. It uses neural networs composed of various layers and weights that extracts features from an input. It uses those features to make its predictions. Deep learning improves its prediction accuracy based on the amount of relevant data. \n",
        "\n",
        "**Basic Concepts**\n",
        "\n",
        "Computers are trained on models. One type of model is linear regression. Linear regression observes the relationship between two variables. One variable represents the input while the other is the output. The goal is to understand this relationship, how one variable affects the other, so the computer can make strong predictions. A case of this can be a model for predicting students' final test score based on a previous test score. \n",
        "\n",
        "**Building a Model**\n",
        "\n",
        "A model requires an input that can be labeled or unlabeled to give the program some information it can use to make its prediction. The output is the classifier used to make the final prediction of the input such as what group it belongs to. Weights are randomized and improved with training to learn essential features regarding the input. The general paradigm is features (input) make up the model, the model seeks to make predictions based on the features. Tuning parameters are used to improve the predictions. Finally, the predictions are evaluated to validate their accuracy with a loss function and comparing the labels. Loss functions are performance indicators of models used to determine how well they did in forming valid predictions with the data they were given. \n",
        "\n",
        "A convolutional neural network is made up of input layers of nodes that read in the data. This can be a feature map that represents an image. The data is passed to hidden layers of nodes; these layers update the weights accordingly to extract features from data with the helping of the learning rate and other tuning parameters. Additionally, the feature map goes through convolution and pooling methods to absorb the feature and compute new ones by sliding a filter over the feature map. Finally, the output layers of nodes known as classifier is where the prediction is made. In classification problems this can be what a group something belongs to. For example, a neural network might read in an image filled with cats and dogs and attempt to classify whether the animal is a cat or dog with its output layers. The weights represent the network's knowledge about the data. A feature\n",
        "\n",
        "There are guidelines to help determine what classifier and loss function to choose based on the type of problem. In the case when its a binary classification problem, a sigmoid function and binary cross function work well in classifying and evaluating the output. \n",
        "\n",
        "**Comping a Model**\n",
        "\n",
        "When a neural network trains on a model a learning rate is used to update the weights. Learning rates help improve the training. A learning rate that is to small gives way to a long learning process of the weights, but one that's too large may overshoot the correct prediction. \n",
        "\n",
        "**Training a Model**\n",
        "\n",
        "When training a model it can possible for the program to perform to well on training data known as overfitting. As a result, the program is not able to pick up on new patterns and perform well on unseen data. The model is not that useful if its only predictions only work with training data. Another issue that can arise is underfitting. This is when the model has not learnt enough and makes wrong, unreliable predictions most of the time.\n",
        "\n",
        "**Finetuning a pretrained model**\n",
        "\n",
        "When finetuning a model you can observe which layers are closest to the top and unfreeze them. This can improve the prediction accuracy. \n"
      ]
    }
  ]
}