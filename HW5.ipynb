{
  "nbformat": 4,
  "nbformat_minor": 0,
  "metadata": {
    "colab": {
      "name": "HW5.ipynb",
      "provenance": [],
      "authorship_tag": "ABX9TyO2ayRQTiR2VQGLcvljH2NK",
      "include_colab_link": true
    },
    "kernelspec": {
      "name": "python3",
      "display_name": "Python 3"
    }
  },
  "cells": [
    {
      "cell_type": "markdown",
      "metadata": {
        "id": "view-in-github",
        "colab_type": "text"
      },
      "source": [
        "<a href=\"https://colab.research.google.com/github/DaDamola/AI-Learning/blob/master/HW5.ipynb\" target=\"_parent\"><img src=\"https://colab.research.google.com/assets/colab-badge.svg\" alt=\"Open In Colab\"/></a>"
      ]
    },
    {
      "cell_type": "markdown",
      "metadata": {
        "id": "F2exvnZRBKPZ",
        "colab_type": "text"
      },
      "source": [
        "**General Concepts**\n",
        "\n",
        "Artificial intelligence is the ability for machines to perform tasks that require a human level of intelligence. Tasks such as recognizing people in a photo or understanding human speech. Artificial intelligence can be reflected in computers, programs, machines or robots. Computers are great at absorbing data, artificial intelligence seeks to use that data to make smart decisions. \n",
        "\n",
        "Computers (machines) learn to perform tasks effectively through learning methods. Through machine learning the goal is to have computers behave logically without receiving explicit programming to do so. Machine learning does this by training a model on a dataset in order to achieve correct predictions. The program learns from the experience of undergoing several iterations of training in order to improve its prediction accuracy. In time it is expected that the model will perform well on making predictions not only on training data, but on unseen data as well. \n",
        "\n",
        "Deep learning is another learning method. It uses neural networs composed of various layers and weights that extracts features from an input. It uses those features to make its predictions. Deep learning improves its prediction accuracy based on the amount of relevant data. \n",
        "\n",
        "Computers are trained on models. One type of model is linear regression. Linear regression observes the relationship between two variables. One variable represents the input while the other is the output. The goal is to understand this relationship, how one variable affects the other, so the computer can make strong predictions. \n"
      ]
    }
  ]
}