{
  "nbformat": 4,
  "nbformat_minor": 0,
  "metadata": {
    "colab": {
      "name": "Prob3_F3_Contour_HW2.ipynb",
      "provenance": [],
      "authorship_tag": "ABX9TyNRNzzsli58dpNSriCIJf9F",
      "include_colab_link": true
    },
    "kernelspec": {
      "name": "python3",
      "display_name": "Python 3"
    }
  },
  "cells": [
    {
      "cell_type": "markdown",
      "metadata": {
        "id": "view-in-github",
        "colab_type": "text"
      },
      "source": [
        "<a href=\"https://colab.research.google.com/github/DaDamola/AI-Learning/blob/master/Prob3_F3_Contour_HW2.ipynb\" target=\"_parent\"><img src=\"https://colab.research.google.com/assets/colab-badge.svg\" alt=\"Open In Colab\"/></a>"
      ]
    },
    {
      "cell_type": "code",
      "metadata": {
        "id": "MMIQqu3B-yaE",
        "colab_type": "code",
        "colab": {
          "base_uri": "https://localhost:8080/",
          "height": 286
        },
        "outputId": "8e2c11f3-34b8-40ac-9099-f649bf892c73"
      },
      "source": [
        "%matplotlib inline\n",
        "import numpy as np\n",
        "import matplotlib.pyplot as plt\n",
        "\n",
        "def f3(x, y):\n",
        "    return x * y \n",
        "\n",
        "#start and end values for the axises, number of samples on graph (x and y are vectors)\n",
        "x = np.linspace(0, 50, 50) \n",
        "y = np.linspace(0, 50, 40)\n",
        "\n",
        "X, Y = np.meshgrid(x, y) #build 2d grids (matrices) from 1d vectors\n",
        "Z = f3(X, Y) #X and Y are coordinates, Z is contour levels (matrix)\n",
        "\n",
        "#plot graph \n",
        "plt.contourf(X, Y, Z, 20, cmap='RdGy') \n",
        "\n",
        "grad = np.gradient(Z) \n",
        "res, coords = (), []\n",
        "\n",
        "for narr in grad:\n",
        "  if 0 in narr:\n",
        "   res = np.where(narr == 0)\n",
        "   coords = list(zip(res[0], res[1]))\n",
        "   break\n",
        "\n",
        "row = coords[0][0]\n",
        "col = coords[0][1]\n",
        "\n",
        "p = Z.min()\n",
        "\n",
        "p3X = X[row][col]\n",
        "p3Y = Y[row][col]\n",
        "\n",
        "plt.plot(p3X, p3Y,'ro') #plot point\n",
        "plt.text(p3X, p3Y, \"p3\", fontsize=12) #label point\n",
        "\n",
        "\n",
        "\n",
        "\n"
      ],
      "execution_count": 1,
      "outputs": [
        {
          "output_type": "execute_result",
          "data": {
            "text/plain": [
              "Text(0.0, 0.0, 'p3')"
            ]
          },
          "metadata": {
            "tags": []
          },
          "execution_count": 1
        },
        {
          "output_type": "display_data",
          "data": {
            "image/png": "[encoded data removed]",
            "text/plain": [
              "<Figure size 432x288 with 1 Axes>"
            ]
          },
          "metadata": {
            "tags": [],
            "needs_background": "light"
          }
        }
      ]
    }
  ]
}